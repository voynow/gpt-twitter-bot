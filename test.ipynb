{
 "cells": [
  {
   "cell_type": "code",
   "execution_count": 1,
   "metadata": {},
   "outputs": [],
   "source": [
    "import os\n",
    "if not os.getcwd().endswith(\"tweet_lambda\"):\n",
    "    os.chdir(\"tweet_lambda\")\n",
    "import utils.twitter as twitter\n",
    "import utils.gpt as gpt\n",
    "import utils.trends as trends\n"
   ]
  },
  {
   "cell_type": "code",
   "execution_count": 4,
   "metadata": {},
   "outputs": [
    {
     "name": "stdout",
     "output_type": "stream",
     "text": [
      "Augmented Humanity\n",
      "['tweet']\n",
      "The potential of Augmented Humanity is limitless, but will it eventually take away our ability to make decisions for ourselves? #AHumanity#AugmentedReality #ComputersVSHumans\n"
     ]
    }
   ],
   "source": [
    "trend = trends.get_trend()\n",
    "prompt = f\"Create a dramatic tweet about tech and {trend}. Don't use the word tech. Use hashtags. Don't use emojis.\"\n",
    "model_engine = \"text-davinci-003\"\n",
    "\n",
    "tweet = gpt.gen_tweet(model_engine, prompt)\n",
    "\n",
    "print(trend)\n",
    "print(list(tweet.keys()))\n",
    "print(tweet['tweet'])"
   ]
  },
  {
   "cell_type": "code",
   "execution_count": null,
   "metadata": {},
   "outputs": [],
   "source": []
  }
 ],
 "metadata": {
  "kernelspec": {
   "display_name": "venv",
   "language": "python",
   "name": "python3"
  },
  "language_info": {
   "codemirror_mode": {
    "name": "ipython",
    "version": 3
   },
   "file_extension": ".py",
   "mimetype": "text/x-python",
   "name": "python",
   "nbconvert_exporter": "python",
   "pygments_lexer": "ipython3",
   "version": "3.8.0"
  },
  "orig_nbformat": 4,
  "vscode": {
   "interpreter": {
    "hash": "12c4ebd51cbe913a8de3e499d17adbaa0c35b27e037309436686cab4eedefcf2"
   }
  }
 },
 "nbformat": 4,
 "nbformat_minor": 2
}
