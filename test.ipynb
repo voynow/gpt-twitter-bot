{
 "cells": [
  {
   "cell_type": "code",
   "execution_count": 1,
   "metadata": {},
   "outputs": [],
   "source": [
    "import utils.twitter as twitter\n",
    "import utils.openai as openai"
   ]
  },
  {
   "cell_type": "code",
   "execution_count": 2,
   "metadata": {},
   "outputs": [],
   "source": [
    "def clean(text):\n",
    "    while \"\\\\n\\\\n\" in text:\n",
    "        text = text.replace(\"\\\\n\\\\n\", \"\\\\n\")\n",
    "    text = text.replace('\"', '')\n",
    "    return text"
   ]
  },
  {
   "cell_type": "code",
   "execution_count": 8,
   "metadata": {},
   "outputs": [
    {
     "name": "stdout",
     "output_type": "stream",
     "text": [
      "(0) 207 chars\n",
      "\n",
      "#TheModernWorld is #BlazingWithProgress! We're all experiencing the amazing power of our own ideas and creativity - let's keep pushing forward in a positive direction. #InnovationIsKey #BeInspiredBeCreative\n",
      "\n",
      "\n",
      "(1) 285 chars\n",
      "\n",
      "\n",
      "#Innovation has transformed the modern world & changed human life for better! #ModernLiving is a result of groundbreaking ideas that have revolutionized our lives. So grateful to those brave minds who continue pushing boundaries and inspiring us all. #Inspiration #PassionForProgress\n",
      "\n",
      "\n",
      "(2) 269 chars\n",
      "\n",
      "\n",
      "#ModernWorld is full of amazing #Innovations & #Opportunities! I'm so thrilled to be alive in this digital age and witness how far we've come, with endless possibilities on the horizon. Let's keep pushing boundaries together for a brighter future!  #TechnologyForward\n",
      "\n",
      "\n"
     ]
    }
   ],
   "source": [
    "# model_engine = \"text-curie-001\"\n",
    "model_engine = \"text-davinci-003\"\n",
    "\n",
    "prompt = \"Tweet about tech and the modern world. Use many hashtags. Be passionate. Don't use the word \\\"technology \\\" or \\\"tech\\\".\"\n",
    "body = openai.gpt_completion(model_engine, prompt, frequency_penalty=2, presence_penalty=2, n=3)\n",
    "\n",
    "for i, obj in enumerate(body):\n",
    "    tweet_len = len(obj.text)\n",
    "    print(f\"({i}) {tweet_len} chars\")\n",
    "    print(obj.text)\n",
    "    print(\"\\n\")"
   ]
  },
  {
   "cell_type": "code",
   "execution_count": 13,
   "metadata": {},
   "outputs": [],
   "source": [
    "x = 0\n",
    "tweet = clean(body[x].text)\n",
    "api = twitter.get_auth()\n",
    "twitter.tweet(api, tweet)\n"
   ]
  }
 ],
 "metadata": {
  "kernelspec": {
   "display_name": "venv",
   "language": "python",
   "name": "python3"
  },
  "language_info": {
   "codemirror_mode": {
    "name": "ipython",
    "version": 3
   },
   "file_extension": ".py",
   "mimetype": "text/x-python",
   "name": "python",
   "nbconvert_exporter": "python",
   "pygments_lexer": "ipython3",
   "version": "3.8.0"
  },
  "orig_nbformat": 4,
  "vscode": {
   "interpreter": {
    "hash": "12c4ebd51cbe913a8de3e499d17adbaa0c35b27e037309436686cab4eedefcf2"
   }
  }
 },
 "nbformat": 4,
 "nbformat_minor": 2
}
