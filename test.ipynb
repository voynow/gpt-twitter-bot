{
 "cells": [
  {
   "cell_type": "code",
   "execution_count": null,
   "metadata": {},
   "outputs": [],
   "source": [
    "import utils.twitter as twitter\n",
    "import utils.openai as openai\n",
    "\n",
    "import matplotlib.pyplot as plt"
   ]
  },
  {
   "cell_type": "code",
   "execution_count": null,
   "metadata": {},
   "outputs": [],
   "source": [
    "def clean(text):\n",
    "    while \"\\\\n\\\\n\" in text:\n",
    "        text = text.replace(\"\\\\n\\\\n\", \"\\\\n\")\n",
    "    text = text.replace('\"', '')\n",
    "    return text"
   ]
  },
  {
   "cell_type": "code",
   "execution_count": null,
   "metadata": {},
   "outputs": [],
   "source": [
    "# model_engine = \"text-curie-001\"\n",
    "model_engine = \"text-davinci-003\"\n",
    "\n",
    "prompt = \"Create an interesting tweet. Use as many hashtags as possible\"\n",
    "body = openai.gpt_completion(model_engine, prompt, frequency_penalty=2, presence_penalty=2, n=50)"
   ]
  },
  {
   "cell_type": "code",
   "execution_count": null,
   "metadata": {},
   "outputs": [],
   "source": [
    "for i, obj in enumerate(body):\n",
    "    tweet = obj.text\n",
    "    if len(tweet) < 280:\n",
    "        print(tweet + \"\\n\" + \"*\" * 80)\n",
    "    else:\n",
    "        print(\"Error: too long\")"
   ]
  },
  {
   "cell_type": "code",
   "execution_count": null,
   "metadata": {},
   "outputs": [],
   "source": [
    "# assert len(obj) <= 280"
   ]
  },
  {
   "cell_type": "code",
   "execution_count": null,
   "metadata": {},
   "outputs": [],
   "source": [
    "# if \"\\n\\n\" in tweet:\n",
    "#   split.(\"\\n\\n\")[1]\n",
    "# replace '\"' with \"\""
   ]
  },
  {
   "cell_type": "code",
   "execution_count": null,
   "metadata": {},
   "outputs": [],
   "source": [
    "# assert \"2020\" not in tweet\n",
    "# assert \"COVID\" not in tweet\n",
    "# assert \"pandemic\" not in tweet"
   ]
  },
  {
   "cell_type": "code",
   "execution_count": null,
   "metadata": {},
   "outputs": [],
   "source": [
    "x = 3\n",
    "tweet = clean(body[x].text)\n",
    "api = twitter.get_auth()\n",
    "twitter.tweet(api, tweet)\n"
   ]
  },
  {
   "cell_type": "code",
   "execution_count": null,
   "metadata": {},
   "outputs": [],
   "source": []
  }
 ],
 "metadata": {
  "kernelspec": {
   "display_name": "venv",
   "language": "python",
   "name": "python3"
  },
  "language_info": {
   "codemirror_mode": {
    "name": "ipython",
    "version": 3
   },
   "file_extension": ".py",
   "mimetype": "text/x-python",
   "name": "python",
   "nbconvert_exporter": "python",
   "pygments_lexer": "ipython3",
   "version": "3.8.0"
  },
  "orig_nbformat": 4,
  "vscode": {
   "interpreter": {
    "hash": "12c4ebd51cbe913a8de3e499d17adbaa0c35b27e037309436686cab4eedefcf2"
   }
  }
 },
 "nbformat": 4,
 "nbformat_minor": 2
}
