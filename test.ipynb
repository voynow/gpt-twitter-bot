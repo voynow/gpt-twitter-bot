{
 "cells": [
  {
   "cell_type": "code",
   "execution_count": 1,
   "metadata": {},
   "outputs": [],
   "source": [
    "import utils.twitter as twitter\n",
    "import utils.openai as openai"
   ]
  },
  {
   "cell_type": "code",
   "execution_count": 2,
   "metadata": {},
   "outputs": [],
   "source": [
    "def remove_newline(text):\n",
    "    while \"\\\\n\\\\n\" in text:\n",
    "        text = text.replace(\"\\\\n\\\\n\", \"\\\\n\")\n",
    "    return text"
   ]
  },
  {
   "cell_type": "code",
   "execution_count": 14,
   "metadata": {},
   "outputs": [
    {
     "name": "stdout",
     "output_type": "stream",
     "text": [
      "\n",
      "\n",
      "Technology can be a great tool, but it's ultimately up to us humans to ensure its power is used responsibly and ethically. #TechWithHumansInMind\n",
      "146 chars\n"
     ]
    }
   ],
   "source": [
    "# model_engine = \"text-curie-001\"\n",
    "model_engine = \"text-davinci-003\"\n",
    "\n",
    "prompt = \"Create a unique and profound tweet relating to some technology\"\n",
    "body = openai.gpt_completion(model_engine, prompt, frequency_penalty=1.5, presence_penalty=1.5)\n",
    "\n",
    "tweet = remove_newline(body)\n",
    "print(tweet)\n",
    "print(len(tweet), \"chars\")"
   ]
  },
  {
   "cell_type": "code",
   "execution_count": 13,
   "metadata": {},
   "outputs": [],
   "source": [
    "api = twitter.get_auth()\n",
    "twitter.tweet(api, tweet)\n"
   ]
  },
  {
   "cell_type": "code",
   "execution_count": null,
   "metadata": {},
   "outputs": [],
   "source": []
  }
 ],
 "metadata": {
  "kernelspec": {
   "display_name": "venv",
   "language": "python",
   "name": "python3"
  },
  "language_info": {
   "codemirror_mode": {
    "name": "ipython",
    "version": 3
   },
   "file_extension": ".py",
   "mimetype": "text/x-python",
   "name": "python",
   "nbconvert_exporter": "python",
   "pygments_lexer": "ipython3",
   "version": "3.8.0"
  },
  "orig_nbformat": 4,
  "vscode": {
   "interpreter": {
    "hash": "12c4ebd51cbe913a8de3e499d17adbaa0c35b27e037309436686cab4eedefcf2"
   }
  }
 },
 "nbformat": 4,
 "nbformat_minor": 2
}
