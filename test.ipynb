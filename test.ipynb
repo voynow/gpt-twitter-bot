{
 "cells": [
  {
   "cell_type": "code",
   "execution_count": 1,
   "metadata": {},
   "outputs": [],
   "source": [
    "import os\n",
    "if not os.getcwd().endswith(\"tweet_lambda\"):\n",
    "    os.chdir(\"tweet_lambda\")\n",
    "\n",
    "import utils.twitter as twitter\n",
    "import utils.gpt as gpt\n",
    "import utils.trends as trends\n"
   ]
  },
  {
   "cell_type": "code",
   "execution_count": 2,
   "metadata": {},
   "outputs": [
    {
     "name": "stdout",
     "output_type": "stream",
     "text": [
      "Real-time predictive maintenance for industrial equipment\n",
      "Using #RealTimePredictiveMaintenance can help improve #IndustrialEquipment performance & reduce downtime. Benefits include data-driven decisions, optimized maintenance schedules, and improved product quality!\n"
     ]
    }
   ],
   "source": [
    "for i in range(25):\n",
    "    trend = trends.get_trend()\n",
    "    prompt = f\"Create an informative tweet about tech and {trend}. Don't use the word tech. Use hashtags. Don't use emojis.\"\n",
    "    model_engine = \"text-davinci-003\"\n",
    "\n",
    "    tweet = gpt.gen_tweet(model_engine, prompt)\n",
    "\n",
    "    print(trend)\n",
    "    print(tweet['tweet'], \"]n\")"
   ]
  },
  {
   "cell_type": "code",
   "execution_count": null,
   "metadata": {},
   "outputs": [],
   "source": []
  }
 ],
 "metadata": {
  "kernelspec": {
   "display_name": "venv",
   "language": "python",
   "name": "python3"
  },
  "language_info": {
   "codemirror_mode": {
    "name": "ipython",
    "version": 3
   },
   "file_extension": ".py",
   "mimetype": "text/x-python",
   "name": "python",
   "nbconvert_exporter": "python",
   "pygments_lexer": "ipython3",
   "version": "3.8.0"
  },
  "orig_nbformat": 4,
  "vscode": {
   "interpreter": {
    "hash": "12c4ebd51cbe913a8de3e499d17adbaa0c35b27e037309436686cab4eedefcf2"
   }
  }
 },
 "nbformat": 4,
 "nbformat_minor": 2
}
