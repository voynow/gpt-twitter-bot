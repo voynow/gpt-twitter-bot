{
 "cells": [
  {
   "cell_type": "code",
   "execution_count": 58,
   "metadata": {},
   "outputs": [],
   "source": [
    "import os\n",
    "if not os.getcwd().endswith(\"tweet_lambda\"):\n",
    "    os.chdir(\"tweet_lambda\")\n",
    "import utils.twitter as twitter\n",
    "import utils.gpt as gpt"
   ]
  },
  {
   "cell_type": "code",
   "execution_count": null,
   "metadata": {},
   "outputs": [],
   "source": []
  }
 ],
 "metadata": {
  "kernelspec": {
   "display_name": "venv",
   "language": "python",
   "name": "python3"
  },
  "language_info": {
   "codemirror_mode": {
    "name": "ipython",
    "version": 3
   },
   "file_extension": ".py",
   "mimetype": "text/x-python",
   "name": "python",
   "nbconvert_exporter": "python",
   "pygments_lexer": "ipython3",
   "version": "3.8.0"
  },
  "orig_nbformat": 4,
  "vscode": {
   "interpreter": {
    "hash": "12c4ebd51cbe913a8de3e499d17adbaa0c35b27e037309436686cab4eedefcf2"
   }
  }
 },
 "nbformat": 4,
 "nbformat_minor": 2
}
